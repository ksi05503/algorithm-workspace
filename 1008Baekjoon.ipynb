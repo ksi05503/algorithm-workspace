{
 "cells": [
  {
   "cell_type": "code",
   "execution_count": null,
   "id": "0f091e6a",
   "metadata": {},
   "outputs": [],
   "source": [
    "#백준 14888\n",
    "\n",
    "from itertools import permutations\n",
    "\n",
    "n = int(input())\n",
    "o = ['+','-','*','/']\n",
    "num = list(map(int,input().split()))\n",
    "op = list(map(int,input().split())) # + - * /\n",
    "\n",
    "\n",
    "oper = []\n",
    "for i in range(4):\n",
    "    for j in range(op[i]):\n",
    "        oper.append(o[i])     #연산자 개수를 반영한 연산자리스트\n",
    " \n",
    "oper = list(set(permutations(oper,len(oper)))) #중복제거\n",
    " \n",
    "answer = []\n",
    "for i in oper:\n",
    "    n = num[0]\n",
    "    for j in range(len(num)-1):\n",
    "        if i[j]=='+':\n",
    "            n += num[j+1]\n",
    "        elif i[j]=='-':\n",
    "            n -= num[j+1]\n",
    "        elif i[j]=='*':\n",
    "            n *= num[j+1]\n",
    "        else:\n",
    "            if n//num[j+1] <0:\n",
    "                n = -(-n//num[j+1])\n",
    "            else:\n",
    "                n = n//num[j+1]\n",
    "    answer.append(n)\n",
    "    \n",
    "print(max(answer))\n",
    "print(min(answer))\n"
   ]
  }
 ],
 "metadata": {
  "kernelspec": {
   "display_name": "Python 3",
   "language": "python",
   "name": "python3"
  },
  "language_info": {
   "codemirror_mode": {
    "name": "ipython",
    "version": 3
   },
   "file_extension": ".py",
   "mimetype": "text/x-python",
   "name": "python",
   "nbconvert_exporter": "python",
   "pygments_lexer": "ipython3",
   "version": "3.8.8"
  }
 },
 "nbformat": 4,
 "nbformat_minor": 5
}
