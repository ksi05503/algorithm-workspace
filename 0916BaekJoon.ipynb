{
 "cells": [
  {
   "cell_type": "code",
   "execution_count": 5,
   "id": "e48c9989",
   "metadata": {},
   "outputs": [
    {
     "name": "stdout",
     "output_type": "stream",
     "text": [
      "210\n",
      "105\n"
     ]
    }
   ],
   "source": [
    "#백준 1065 한수\n",
    "\n",
    "import sys\n",
    "\n",
    "num = int(input())\n",
    "hansu = 99\n",
    "\n",
    "if num<100:\n",
    "    print(num)\n",
    "    sys.exit()\n",
    "\n",
    "for n in range(1, num+1) :\n",
    "    if n > 99 :     \n",
    "        nums = list(map(int, str(n))) #자릿수대로 분리 \n",
    "        if nums[0] - nums[1] == nums[1] - nums[2] : #등차수열 확인\n",
    "            hansu+=1\n",
    "\n",
    "            \n",
    "print(hansu)"
   ]
  },
  {
   "cell_type": "code",
   "execution_count": 12,
   "id": "8a6b7cb4",
   "metadata": {},
   "outputs": [
    {
     "name": "stdout",
     "output_type": "stream",
     "text": [
      "216\n",
      "198\n"
     ]
    }
   ],
   "source": [
    "#백준 2231 분해합\n",
    "import sys\n",
    "\n",
    "N = int(input())\n",
    "strLen = len(str(N))\n",
    "fin = 0\n",
    "\n",
    "if(strLen <=2):\n",
    "    start = 0\n",
    "else:\n",
    "    start = N- 9*strLen\n",
    "    \n",
    "    \n",
    "for tmp in range(start, N):\n",
    "    sum = tmp\n",
    "    nums = list(map(int,str(tmp)))\n",
    "\n",
    "    for i in range(strLen):\n",
    "        sum += nums[i]\n",
    "    \n",
    "    if sum == N:\n",
    "        print(tmp)\n",
    "        fin = 1\n",
    "        break\n",
    "    \n",
    "if fin == 0:\n",
    "    print(0)"
   ]
  },
  {
   "cell_type": "code",
   "execution_count": null,
   "id": "230b1175",
   "metadata": {},
   "outputs": [],
   "source": []
  }
 ],
 "metadata": {
  "kernelspec": {
   "display_name": "Python 3",
   "language": "python",
   "name": "python3"
  },
  "language_info": {
   "codemirror_mode": {
    "name": "ipython",
    "version": 3
   },
   "file_extension": ".py",
   "mimetype": "text/x-python",
   "name": "python",
   "nbconvert_exporter": "python",
   "pygments_lexer": "ipython3",
   "version": "3.8.8"
  }
 },
 "nbformat": 4,
 "nbformat_minor": 5
}
