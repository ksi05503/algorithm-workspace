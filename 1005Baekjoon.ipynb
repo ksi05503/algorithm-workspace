{
 "cells": [
  {
   "cell_type": "code",
   "execution_count": 1,
   "id": "62bcd341",
   "metadata": {},
   "outputs": [
    {
     "name": "stdout",
     "output_type": "stream",
     "text": [
      "7\n",
      "0110100\n",
      "0110101\n",
      "1110101\n",
      "0000111\n",
      "0100000\n",
      "0111110\n",
      "0111000\n",
      "3\n",
      "7\n",
      "8\n",
      "9\n"
     ]
    }
   ],
   "source": [
    "# 지도의 크기 입력받기\n",
    "n=int(input())\n",
    "\n",
    "#집정보 입력받기\n",
    "world=[]\n",
    "for i in range(n):\n",
    "  world.append(list(map(int,input())))\n",
    "\n",
    "#정답을 출력할 리스트 초기화하기\n",
    "answer=[]\n",
    "\n",
    "#dfs재귀\n",
    "def dfs(x,y):\n",
    "  if x>=0 and x<n and y>=0 and y<n:\n",
    "    if world[x][y]==1:\n",
    "      world[x][y]=3\n",
    "      dfs(x-1,y)\n",
    "      dfs(x+1,y)\n",
    "      dfs(x,y-1)\n",
    "      dfs(x,y+1)\n",
    "      \n",
    "      return 1\n",
    "    else:\n",
    "      return 0\n",
    "  return 0\n",
    "\n",
    "\n",
    "#덩어리 셀 변수와,이전 3의 개수 저장할 변수 초기화하기\n",
    "count=0\n",
    "prev=0\n",
    "\n",
    "#개수세기\n",
    "for i in range(n):\n",
    "  for j in range(n):\n",
    "    if dfs(i,j)==1:\n",
    "      #현재 꺼 셀 변수 초기화하기\n",
    "      now=0\n",
    "      count+=1\n",
    "      for k in range(n):\n",
    "        now+=world[k].count(3)\n",
    "\n",
    "      #지금 센 개수에서 이전 꺼 빼기 \n",
    "      now-=prev\n",
    "      answer.append(now)\n",
    "      #이전꺼는 현재꺼 더해주기\n",
    "      prev+=now\n",
    "answer.sort()\n",
    "\n",
    "\n",
    "print(count)\n",
    "for i in answer:\n",
    "  print(i)\n",
    "   "
   ]
  },
  {
   "cell_type": "code",
   "execution_count": 2,
   "id": "95955ab2",
   "metadata": {},
   "outputs": [
    {
     "name": "stdout",
     "output_type": "stream",
     "text": [
      "2\n",
      "10\n",
      "01\n",
      "[[1, 0], [0, 1]]\n"
     ]
    }
   ],
   "source": []
  },
  {
   "cell_type": "code",
   "execution_count": 3,
   "id": "939c54de",
   "metadata": {},
   "outputs": [
    {
     "name": "stdout",
     "output_type": "stream",
     "text": [
      "2\n",
      "<map object at 0x0000025716790A30>\n"
     ]
    }
   ],
   "source": []
  },
  {
   "cell_type": "code",
   "execution_count": null,
   "id": "e6ba6354",
   "metadata": {},
   "outputs": [],
   "source": []
  },
  {
   "cell_type": "code",
   "execution_count": null,
   "id": "aa02142c",
   "metadata": {},
   "outputs": [],
   "source": []
  }
 ],
 "metadata": {
  "kernelspec": {
   "display_name": "Python 3",
   "language": "python",
   "name": "python3"
  },
  "language_info": {
   "codemirror_mode": {
    "name": "ipython",
    "version": 3
   },
   "file_extension": ".py",
   "mimetype": "text/x-python",
   "name": "python",
   "nbconvert_exporter": "python",
   "pygments_lexer": "ipython3",
   "version": "3.8.8"
  }
 },
 "nbformat": 4,
 "nbformat_minor": 5
}
