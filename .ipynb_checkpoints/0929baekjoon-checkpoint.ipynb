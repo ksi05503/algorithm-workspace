{
 "cells": [
  {
   "cell_type": "code",
   "execution_count": null,
   "id": "eeebe339",
   "metadata": {},
   "outputs": [],
   "source": [
    "#백준 15661  링크와 스타트\n",
    "import sys\n",
    "N=int(sys.stdin.readline())\n",
    "ar=[]\n",
    "passing=[False]*(N)\n",
    "for _ in range(N):\n",
    "    ar.append(list(map(int,sys.stdin.readline().split())))\n",
    "li = [int(i) for i in range(N)]\n",
    "ret=10e9\n",
    "def func(ans,celi,aim):\n",
    "    global li\n",
    "    global passing\n",
    "    global ret\n",
    "    if celi==aim:\n",
    "        return\n",
    "    for i in range(1,len(li)):\n",
    "        if not passing[i] and ans[-1]<li[i]:\n",
    "            passing[i]=True\n",
    "            ans.append(i)\n",
    "            val1=0\n",
    "            val2=0\n",
    "            link = set(li)\n",
    "            link=link.difference(set(ans))\n",
    "            for x in ans:\n",
    "                for y in ans:\n",
    "                    if x!=y:\n",
    "                        val1+=ar[x][y]\n",
    "            for a in link:\n",
    "                for b in link:\n",
    "                    if a!=b:\n",
    "                        val2+=ar[a][b]\n",
    "            ret=min(ret,abs(val1-val2))\n",
    "            func(ans,celi+1,aim)\n",
    "            ans.pop()\n",
    "            passing[i]=False\n",
    "ans=[0]\n",
    "passing[0]=True\n",
    "func(ans,0,N)\n",
    "print(ret)"
   ]
  }
 ],
 "metadata": {
  "kernelspec": {
   "display_name": "Python 3",
   "language": "python",
   "name": "python3"
  },
  "language_info": {
   "codemirror_mode": {
    "name": "ipython",
    "version": 3
   },
   "file_extension": ".py",
   "mimetype": "text/x-python",
   "name": "python",
   "nbconvert_exporter": "python",
   "pygments_lexer": "ipython3",
   "version": "3.8.8"
  }
 },
 "nbformat": 4,
 "nbformat_minor": 5
}
