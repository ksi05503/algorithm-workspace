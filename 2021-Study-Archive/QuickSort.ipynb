{
 "cells": [
  {
   "cell_type": "code",
   "execution_count": 1,
   "id": "3e6bfe35",
   "metadata": {},
   "outputs": [
    {
     "name": "stdout",
     "output_type": "stream",
     "text": [
      "현재 pivot값 = 7, 데이터 = [7, 5, 3, 1, 4, 2, 6, 8]\n",
      "현재 pivot값 = 7, 정렬후 = [6, 5, 3, 1, 4, 2, 7, 8]\n",
      "\n",
      "현재 pivot값 = 6, 데이터 = [6, 5, 3, 1, 4, 2, 7, 8]\n",
      "현재 pivot값 = 6, 정렬후 = [2, 5, 3, 1, 4, 6, 7, 8]\n",
      "\n",
      "현재 pivot값 = 2, 데이터 = [2, 5, 3, 1, 4, 6, 7, 8]\n",
      "현재 pivot값 = 2, 정렬후 = [1, 5, 3, 2, 4, 6, 7, 8]\n",
      "\n",
      "현재 pivot값 = 5, 데이터 = [1, 5, 3, 2, 4, 6, 7, 8]\n",
      "현재 pivot값 = 5, 정렬후 = [1, 4, 3, 2, 5, 6, 7, 8]\n",
      "\n",
      "현재 pivot값 = 4, 데이터 = [1, 4, 3, 2, 5, 6, 7, 8]\n",
      "현재 pivot값 = 4, 정렬후 = [1, 2, 3, 4, 5, 6, 7, 8]\n",
      "\n",
      "현재 pivot값 = 2, 데이터 = [1, 2, 3, 4, 5, 6, 7, 8]\n",
      "현재 pivot값 = 2, 정렬후 = [1, 2, 3, 4, 5, 6, 7, 8]\n",
      "\n",
      "현재 pivot값 = 7, 데이터 = [1, 2, 3, 4, 5, 6, 7, 8]\n",
      "현재 pivot값 = 7, 정렬후 = [1, 2, 3, 4, 5, 6, 7, 8]\n",
      "\n",
      "[1, 2, 3, 4, 5, 6, 7, 8]\n"
     ]
    }
   ],
   "source": [
    "def quick(data, left, right):\n",
    "  # 재귀 함수 종료 조건\n",
    "  if left >= right:\n",
    "    return\n",
    "\n",
    "  # pivot 설정\n",
    "  pivot=data[left]\n",
    "\n",
    "  l = left\n",
    "  r = right\n",
    "  # pivot보다 작은값과 큰값의 위치 변경\n",
    "  while l <= r:\n",
    "    while pivot > data[l]:\n",
    "      l = l+1\n",
    "    while pivot < data[r]:\n",
    "      r = r-1\n",
    "\n",
    "    # l이 r보다 작거나 같을 때에만 위치를 바꿔야함\n",
    "    # l, r이 어긋난 경우에는 실시하지 않음\n",
    "    if l <= r:\n",
    "      print('현재 pivot값 = {0}, 데이터 = {1}'.format(pivot, data))\n",
    "      data[l], data[r] = data[r], data[l]\n",
    "      print('현재 pivot값 = {0}, 정렬후 = {1}\\n'.format(pivot, data))\n",
    "      l, r = l+1, r-1\n",
    "\n",
    "  # pivot을 기준으로 quick 재귀호출\n",
    "  quick(data, left, l-1)\n",
    "  quick(data, l, right)\n",
    "  return data\n",
    "\n",
    "data = [7,5,3,1,4,2,6,8]\n",
    "quick(data, 0, len(data)-1)\n",
    "print(data)"
   ]
  },
  {
   "cell_type": "code",
   "execution_count": 15,
   "id": "b5ec48c4",
   "metadata": {},
   "outputs": [
    {
     "name": "stdout",
     "output_type": "stream",
     "text": [
      "5\n",
      "2\n",
      "4\n",
      "3\n",
      "1\n",
      "5\n",
      "1\n",
      "2\n",
      "3\n",
      "4\n",
      "5\n"
     ]
    }
   ],
   "source": [
    "def QuickSort(list):\n",
    "    if(len(list) <= 1) : return list\n",
    "    pivot = list[len(list)//2]\n",
    "    less_arr, equal_arr, big_arr = [], [], []\n",
    "    for i in list:\n",
    "        if i<pivot : less_arr.append(i)\n",
    "        elif i>pivot : big_arr.append(i)\n",
    "        else: equal_arr.append(i)\n",
    "    return QuickSort(less_arr) + equal_arr + QuickSort(big_arr)\n",
    "\n",
    "\n",
    "list = []\n",
    "size = int(input())\n",
    "for i in range(size):\n",
    "    list.append(int(input()))\n",
    "\n",
    "    \n",
    "for i in range(size):\n",
    "    print(QuickSort(list)[i])"
   ]
  },
  {
   "cell_type": "code",
   "execution_count": null,
   "id": "3e38b529",
   "metadata": {},
   "outputs": [],
   "source": []
  },
  {
   "cell_type": "code",
   "execution_count": null,
   "id": "29eaef16",
   "metadata": {},
   "outputs": [],
   "source": []
  },
  {
   "cell_type": "code",
   "execution_count": null,
   "id": "7da91f6c",
   "metadata": {},
   "outputs": [],
   "source": []
  },
  {
   "cell_type": "code",
   "execution_count": null,
   "id": "e65b9d32",
   "metadata": {},
   "outputs": [],
   "source": []
  },
  {
   "cell_type": "code",
   "execution_count": null,
   "id": "2bb7fa89",
   "metadata": {},
   "outputs": [],
   "source": []
  },
  {
   "cell_type": "code",
   "execution_count": null,
   "id": "f2380480",
   "metadata": {},
   "outputs": [],
   "source": []
  },
  {
   "cell_type": "code",
   "execution_count": null,
   "id": "0dc77ad2",
   "metadata": {},
   "outputs": [],
   "source": []
  },
  {
   "cell_type": "code",
   "execution_count": null,
   "id": "d81f562f",
   "metadata": {},
   "outputs": [],
   "source": []
  },
  {
   "cell_type": "code",
   "execution_count": null,
   "id": "55b48453",
   "metadata": {},
   "outputs": [],
   "source": []
  },
  {
   "cell_type": "code",
   "execution_count": null,
   "id": "37945b2d",
   "metadata": {},
   "outputs": [],
   "source": []
  },
  {
   "cell_type": "code",
   "execution_count": null,
   "id": "889b9d4b",
   "metadata": {},
   "outputs": [],
   "source": []
  },
  {
   "cell_type": "code",
   "execution_count": null,
   "id": "e15cb29e",
   "metadata": {},
   "outputs": [],
   "source": []
  }
 ],
 "metadata": {
  "kernelspec": {
   "display_name": "Python 3",
   "language": "python",
   "name": "python3"
  },
  "language_info": {
   "codemirror_mode": {
    "name": "ipython",
    "version": 3
   },
   "file_extension": ".py",
   "mimetype": "text/x-python",
   "name": "python",
   "nbconvert_exporter": "python",
   "pygments_lexer": "ipython3",
   "version": "3.8.8"
  }
 },
 "nbformat": 4,
 "nbformat_minor": 5
}
