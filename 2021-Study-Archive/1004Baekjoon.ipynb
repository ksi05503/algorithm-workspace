{
 "cells": [
  {
   "cell_type": "code",
   "execution_count": 5,
   "id": "8d0dcf73",
   "metadata": {},
   "outputs": [
    {
     "name": "stdout",
     "output_type": "stream",
     "text": [
      "210\n",
      "105\n"
     ]
    }
   ],
   "source": [
    "#q\n",
    "import sys\n",
    "\n",
    "num = int(input())\n",
    "hansu = 99\n",
    "\n",
    "if num<100:\n",
    "    print(num)\n",
    "    sys.exit()\n",
    "\n",
    "for n in range(1, num+1) :\n",
    "    if n > 99 :     \n",
    "        nums = list(map(int, str(n))) #자릿수대로 분리 \n",
    "        if nums[0] - nums[1] == nums[1] - nums[2] : #등차수열 확인\n",
    "            hansu+=1\n",
    "\n",
    "            \n",
    "print(hansu)"
   ]
  },
  {
   "cell_type": "code",
   "execution_count": null,
   "id": "dfdbca89",
   "metadata": {},
   "outputs": [],
   "source": []
  },
  {
   "cell_type": "code",
   "execution_count": null,
   "id": "e8b2ddba",
   "metadata": {},
   "outputs": [],
   "source": []
  }
 ],
 "metadata": {
  "kernelspec": {
   "display_name": "Python 3",
   "language": "python",
   "name": "python3"
  },
  "language_info": {
   "codemirror_mode": {
    "name": "ipython",
    "version": 3
   },
   "file_extension": ".py",
   "mimetype": "text/x-python",
   "name": "python",
   "nbconvert_exporter": "python",
   "pygments_lexer": "ipython3",
   "version": "3.8.8"
  }
 },
 "nbformat": 4,
 "nbformat_minor": 5
}
