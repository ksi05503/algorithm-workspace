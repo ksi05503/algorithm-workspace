{
 "cells": [
  {
   "cell_type": "code",
   "execution_count": null,
   "id": "144168cc",
   "metadata": {},
   "outputs": [],
   "source": [
    "#백준 2839\n",
    "#오답 (왜인지는 모르겠음)\n",
    "\n",
    "N = int(input())\n",
    "\n",
    "max = int(N / 5)\n",
    "i = 0\n",
    "while(True):\n",
    "    max = max - i\n",
    "    if((N- 5*max)%3 ==0 ):\n",
    "        print(int(max + (N- 5*max)/3)\n",
    "        break\n",
    "    if(max<0):\n",
    "        print(\"-1\")\n",
    "        break\n",
    "    i = i+1"
   ]
  },
  {
   "cell_type": "code",
   "execution_count": null,
   "id": "94c54926",
   "metadata": {},
   "outputs": [],
   "source": [
    "#백준 2839 설탕봉지\n",
    "#정답\n",
    "n = int(input()) \n",
    "\n",
    "result = 0 \n",
    "\n",
    "while n >= 0:\n",
    "    if n % 5 == 0: \n",
    "        result += n // 5 \n",
    "        print(result)\n",
    "        break\n",
    "    n -= 3 \n",
    "    result += 1 \n",
    "else:\n",
    "    print(-1) "
   ]
  },
  {
   "cell_type": "code",
   "execution_count": 7,
   "id": "7c4c6be5",
   "metadata": {},
   "outputs": [
    {
     "name": "stdout",
     "output_type": "stream",
     "text": [
      "5\n",
      "3 1 4 3 2\n",
      "32\n"
     ]
    }
   ],
   "source": [
    "#백준 11399 ATM\n",
    "#정답\n",
    "\n",
    "n = int(input())\n",
    "\n",
    "list1 = list(map(int,input().split(\" \")))\n",
    "list2 = sorted(list1)\n",
    "sum = 0\n",
    "for i in range(n):\n",
    "    sum = sum + list2[i]*(n-i)\n",
    "    \n",
    "print(sum)"
   ]
  },
  {
   "cell_type": "code",
   "execution_count": null,
   "id": "20b3aa8b",
   "metadata": {},
   "outputs": [],
   "source": [
    "#백준 11047 동전\n",
    "\n",
    "n, k = map(int, input().split())\n",
    "m = []\n",
    "num = 0\n",
    "for i in range(n):\n",
    "    m.append(int(input()))\n",
    "for i in range(n - 1, -1, -1):\n",
    "    if k == 0:\n",
    "        break\n",
    "    if m[i] > k:\n",
    "        continue\n",
    "    num += k // m[i]\n",
    "    k %= m[i]\n",
    "print(num)\n",
    "\n",
    "#k보다 작은 가장 큰 값부터 계산해 나간다.\n",
    "#k와 가치를 나눈 몫을 계속 더해주고\n",
    "#k에는 가치를 나눈 나머지를 저장해준다.\n",
    "#최종적으로 몫을 계속 더해준 값을 출력해준다."
   ]
  },
  {
   "cell_type": "code",
   "execution_count": null,
   "id": "a1fc9fb0",
   "metadata": {},
   "outputs": [],
   "source": []
  },
  {
   "cell_type": "code",
   "execution_count": null,
   "id": "35cf221b",
   "metadata": {},
   "outputs": [],
   "source": []
  }
 ],
 "metadata": {
  "kernelspec": {
   "display_name": "Python 3",
   "language": "python",
   "name": "python3"
  },
  "language_info": {
   "codemirror_mode": {
    "name": "ipython",
    "version": 3
   },
   "file_extension": ".py",
   "mimetype": "text/x-python",
   "name": "python",
   "nbconvert_exporter": "python",
   "pygments_lexer": "ipython3",
   "version": "3.8.8"
  }
 },
 "nbformat": 4,
 "nbformat_minor": 5
}
